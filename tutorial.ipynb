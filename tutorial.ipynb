{
 "cells": [
  {
   "cell_type": "markdown",
   "metadata": {},
   "source": [
    "# Building a clickbait classification pipeline\n",
    "\n",
    "![Clickbait](http://www.ogilvy.com/wp-content/uploads/2015/10/166_main.jpg)"
   ]
  },
  {
   "cell_type": "markdown",
   "metadata": {},
   "source": [
    "## Introduction\n",
    "\n",
    "The aim of this workshop is to walk you through the process of taking data to a production machine learning classifier for text. You'll build a classifier to detect clickbait from the article text and eventually roll out the classifier into an app.\n",
    "\n",
    "We'll be using\n",
    " - pandas for data wrangling\n",
    " - matplotlib for plotting\n",
    " - scikit-learn for feature engineering, model building, and model analysis\n",
    " - flask for building our web app\n",
    " - jupyter for getting stuff done\n",
    "\n",
    "By the end of the workshop you'll understand the steps needed to build a basic text processing pipeline."
   ]
  },
  {
   "cell_type": "markdown",
   "metadata": {},
   "source": [
    "## Loading data and wrangling\n",
    "\n",
    "You've been presented with tabular data in a `.csv` format. A natural choice for loading the data is pandas, which is based around tabular representations.\n",
    "\n",
    "We'll load in the data and get a broad overview of the data."
   ]
  },
  {
   "cell_type": "code",
   "execution_count": 1,
   "metadata": {
    "collapsed": true
   },
   "outputs": [],
   "source": [
    "import pandas as pd\n",
    "%matplotlib inline "
   ]
  },
  {
   "cell_type": "code",
   "execution_count": 2,
   "metadata": {},
   "outputs": [
    {
     "data": {
      "text/html": [
       "<div>\n",
       "<table border=\"1\" class=\"dataframe\">\n",
       "  <thead>\n",
       "    <tr style=\"text-align: right;\">\n",
       "      <th></th>\n",
       "      <th>author</th>\n",
       "      <th>description</th>\n",
       "      <th>label</th>\n",
       "      <th>publishedAt</th>\n",
       "      <th>title</th>\n",
       "    </tr>\n",
       "  </thead>\n",
       "  <tbody>\n",
       "    <tr>\n",
       "      <th>0</th>\n",
       "      <td>Julia Reinstein</td>\n",
       "      <td>Trust no man, trust no brand. (This post will ...</td>\n",
       "      <td>1</td>\n",
       "      <td>NaN</td>\n",
       "      <td>The Definitive Guide To The Best April Fools’ ...</td>\n",
       "    </tr>\n",
       "    <tr>\n",
       "      <th>1</th>\n",
       "      <td>Natalya Lobanova</td>\n",
       "      <td>Not that anyone should need convincing of thei...</td>\n",
       "      <td>1</td>\n",
       "      <td>NaN</td>\n",
       "      <td>Literally Just 19 Pictures That Prove Hedgehog...</td>\n",
       "    </tr>\n",
       "    <tr>\n",
       "      <th>2</th>\n",
       "      <td>Kat Angus, Jane Lytvynenko</td>\n",
       "      <td>You can only have one, eh?</td>\n",
       "      <td>1</td>\n",
       "      <td>NaN</td>\n",
       "      <td>\"Would You Rather\": Canadian Food Vs. Canadian...</td>\n",
       "    </tr>\n",
       "    <tr>\n",
       "      <th>3</th>\n",
       "      <td>Ben Coleman</td>\n",
       "      <td>\"It's gonna rip my eyebrow off!\"</td>\n",
       "      <td>1</td>\n",
       "      <td>NaN</td>\n",
       "      <td>Guys Try The \"Most Painful\" Face Mask</td>\n",
       "    </tr>\n",
       "    <tr>\n",
       "      <th>4</th>\n",
       "      <td>Ellie Bate</td>\n",
       "      <td>No, your hair colour won't make a difference.</td>\n",
       "      <td>1</td>\n",
       "      <td>NaN</td>\n",
       "      <td>Which \"Riverdale\" Family Do You Belong In?</td>\n",
       "    </tr>\n",
       "  </tbody>\n",
       "</table>\n",
       "</div>"
      ],
      "text/plain": [
       "                       author  \\\n",
       "0             Julia Reinstein   \n",
       "1            Natalya Lobanova   \n",
       "2  Kat Angus, Jane Lytvynenko   \n",
       "3                 Ben Coleman   \n",
       "4                  Ellie Bate   \n",
       "\n",
       "                                         description  label publishedAt  \\\n",
       "0  Trust no man, trust no brand. (This post will ...      1         NaN   \n",
       "1  Not that anyone should need convincing of thei...      1         NaN   \n",
       "2                         You can only have one, eh?      1         NaN   \n",
       "3                   \"It's gonna rip my eyebrow off!\"      1         NaN   \n",
       "4      No, your hair colour won't make a difference.      1         NaN   \n",
       "\n",
       "                                               title  \n",
       "0  The Definitive Guide To The Best April Fools’ ...  \n",
       "1  Literally Just 19 Pictures That Prove Hedgehog...  \n",
       "2  \"Would You Rather\": Canadian Food Vs. Canadian...  \n",
       "3              Guys Try The \"Most Painful\" Face Mask  \n",
       "4         Which \"Riverdale\" Family Do You Belong In?  "
      ]
     },
     "execution_count": 2,
     "metadata": {},
     "output_type": "execute_result"
    }
   ],
   "source": [
    "df = pd.read_csv('./data/training_data.csv')\n",
    "df.head(5)"
   ]
  },
  {
   "cell_type": "markdown",
   "metadata": {},
   "source": [
    "### Article details\n",
    "\n",
    "An article contains:\n",
    " - **author** (string) - the article author's name\n",
    " - **description** (string) - a short description of the article\n",
    " - **label** (interger) - 1=clickbait 0=not clickbait\n",
    " - **publishedAt** (string) - a timestamp for the time of publication\n",
    " - **title** (string) - the title of the article\n",
    "\n",
    "We can print the content of one article:"
   ]
  },
  {
   "cell_type": "code",
   "execution_count": 3,
   "metadata": {},
   "outputs": [
    {
     "name": "stdout",
     "output_type": "stream",
     "text": [
      "Literally Just 19 Pictures That Prove Hedgehogs Are Ridiculously Cute\n",
      "-----\n",
      "Not that anyone should need convincing of their cuteness, tbh.\n",
      "Published at: nan\n"
     ]
    }
   ],
   "source": [
    "print(df['title'][1])\n",
    "print('-----')\n",
    "print(df['description'][1])\n",
    "print('Published at:', df['publishedAt'][1])"
   ]
  },
  {
   "cell_type": "markdown",
   "metadata": {},
   "source": [
    "### Basic statistics\n",
    "\n",
    "Pandas makes it easy to inspect, plot, and transform our data. Pandas is easy to use but still has lots of functionality. When you can chain multiple functions together, you've become a pandas pro!"
   ]
  },
  {
   "cell_type": "code",
   "execution_count": 4,
   "metadata": {},
   "outputs": [
    {
     "data": {
      "text/plain": [
       "0    706\n",
       "1    519\n",
       "Name: label, dtype: int64"
      ]
     },
     "execution_count": 4,
     "metadata": {},
     "output_type": "execute_result"
    }
   ],
   "source": [
    "# Number of clickbait and non-clickbait articles\n",
    "df['label'].value_counts()"
   ]
  },
  {
   "cell_type": "code",
   "execution_count": 6,
   "metadata": {},
   "outputs": [
    {
     "data": {
      "text/plain": [
       "<matplotlib.axes._subplots.AxesSubplot at 0x11442f4e0>"
      ]
     },
     "execution_count": 6,
     "metadata": {},
     "output_type": "execute_result"
    },
    {
     "data": {
      "image/png": "[encoded data removed]",
      "text/plain": [
       "<matplotlib.figure.Figure at 0x114b0a278>"
      ]
     },
     "metadata": {},
     "output_type": "display_data"
    }
   ],
   "source": [
    "# Plotting the number of author fields that are Null\n",
    "df['author'].isnull().value_counts().plot('barh')"
   ]
  },
  {
   "cell_type": "code",
   "execution_count": 7,
   "metadata": {},
   "outputs": [
    {
     "data": {
      "text/plain": [
       "82.30285714285715"
      ]
     },
     "execution_count": 7,
     "metadata": {},
     "output_type": "execute_result"
    }
   ],
   "source": [
    "# The number of characters in the description field\n",
    "df['description'].apply(len).mean()"
   ]
  },
  {
   "cell_type": "code",
   "execution_count": 8,
   "metadata": {},
   "outputs": [
    {
     "data": {
      "text/plain": [
       "label\n",
       "0    109.575071\n",
       "1     45.204239\n",
       "Name: description, dtype: float64"
      ]
     },
     "execution_count": 8,
     "metadata": {},
     "output_type": "execute_result"
    }
   ],
   "source": [
    "# Comparing the number of description characters in clickbait to news\n",
    "df['description'].apply(len).groupby(df['label']).mean()"
   ]
  },
  {
   "cell_type": "code",
   "execution_count": null,
   "metadata": {
    "collapsed": true
   },
   "outputs": [],
   "source": [
    "# TEST YOUR KNOWLEDGE\n",
    "# Can you write a one-liner to compute the number of clickbait articles\n",
    "# written by each author? Hint: you might find the .sum() function helpful!"
   ]
  },
  {
   "cell_type": "markdown",
   "metadata": {},
   "source": [
    "### Create the full content column"
   ]
  },
  {
   "cell_type": "code",
   "execution_count": 104,
   "metadata": {},
   "outputs": [
    {
     "data": {
      "text/html": [
       "<div>\n",
       "<table border=\"1\" class=\"dataframe\">\n",
       "  <thead>\n",
       "    <tr style=\"text-align: right;\">\n",
       "      <th></th>\n",
       "      <th>author</th>\n",
       "      <th>description</th>\n",
       "      <th>label</th>\n",
       "      <th>publishedAt</th>\n",
       "      <th>title</th>\n",
       "      <th>full_content</th>\n",
       "    </tr>\n",
       "  </thead>\n",
       "  <tbody>\n",
       "    <tr>\n",
       "      <th>0</th>\n",
       "      <td>Julia Reinstein</td>\n",
       "      <td>Trust no man, trust no brand. (This post will ...</td>\n",
       "      <td>1</td>\n",
       "      <td>NaN</td>\n",
       "      <td>The Definitive Guide To The Best April Fools’ ...</td>\n",
       "      <td>The Definitive Guide To The Best April Fools’ ...</td>\n",
       "    </tr>\n",
       "  </tbody>\n",
       "</table>\n",
       "</div>"
      ],
      "text/plain": [
       "            author                                        description  label  \\\n",
       "0  Julia Reinstein  Trust no man, trust no brand. (This post will ...      1   \n",
       "\n",
       "  publishedAt                                              title  \\\n",
       "0         NaN  The Definitive Guide To The Best April Fools’ ...   \n",
       "\n",
       "                                        full_content  \n",
       "0  The Definitive Guide To The Best April Fools’ ...  "
      ]
     },
     "execution_count": 104,
     "metadata": {},
     "output_type": "execute_result"
    }
   ],
   "source": [
    "# df['full_content'] = (df.description + df.title)\n",
    "df['full_content'] = (df.title)\n",
    "df.head(1)"
   ]
  },
  {
   "cell_type": "markdown",
   "metadata": {},
   "source": [
    "Nice work - have a panda\n",
    "\n",
    "![panda](http://www.nathab.com/uploaded-files/carousels/TRIPS/Wild-China/Asia-Wild-China-4-panda.JPG)"
   ]
  },
  {
   "cell_type": "markdown",
   "metadata": {
    "collapsed": true
   },
   "source": [
    "---\n",
    "\n",
    "# Text classification pipeline\n",
    "\n",
    "\n",
    "Some important terminology:\n",
    "\n",
    "<img src=\"http://tfwiki.net/mediawiki/images2/thumb/3/37/Optimusg1.jpg/350px-Optimusg1.jpg\" alt=\"optimus\" style=\"width:50px;\" align=\"left\"/> **TRANSFORMERS** - take some input data and transform it into another format. Often we want to transform textual data or image data into numerical data. We may also transform our input data into new features\n",
    "<br/>\n",
    "<br/>\n",
    "\n",
    "<img src=\"http://www.kennyskiphire.co.uk/blog/wp-content/uploads/Wheelie-Bins.jpg\" alt=\"bins\" style=\"width:70px;\" align=\"left\"/> **CLASSIFIERS** - take some input data and classify the sample by assigning a label to the input data. In binary classification we often use the labels 1 and 0.\n",
    "<br/>\n",
    "<br/>\n",
    "\n",
    "<img src=\"https://reichanjapan.files.wordpress.com/2016/02/mariogiftcard.png?w=230&h=335\" alt=\"pipe\" style=\"width:50px;\" align=\"left\"/> **PIPELINE** - consist of one or many transformer steps followed by a classifier. We can use pipelines to elegantly chain together operations and construct an easy to use interface. "
   ]
  },
  {
   "cell_type": "markdown",
   "metadata": {},
   "source": [
    "## Textual to numerical data (bag of words model) \n",
    "\n",
    "Our classifier isn't going to understand text like we can - we must create numerical data. A common approach to this is the bag of words model. \n",
    "\n",
    "For example - **Literally just 8 really really cute dogs** - transforms into the bag of words:\n",
    "\n",
    "| Token | id | Count |\n",
    "|---|---|---|\n",
    "| cute | 0 |1 |\n",
    "| dogs | 1 |1 |\n",
    "| just | 2 | 1 |\n",
    "| literally | 3 | 1 |\n",
    "| really | 4 | 2 |\n",
    "\n",
    "This is simply achieved with a scikit-learn `CountVectorizer`. There are two steps:\n",
    " - **Fit** the vectorizer, which populates all the tokens in the left hand column and assigns the numerical ids\n",
    " - **Transform** the data, which turns a sentence into it's bag of words representation\n",
    " \n",
    " Note that the bag of words representation of a sentence ignores the word order and dependencies between them."
   ]
  },
  {
   "cell_type": "code",
   "execution_count": 105,
   "metadata": {},
   "outputs": [],
   "source": [
    "from sklearn.feature_extraction.text import CountVectorizer\n",
    "vectorizer = CountVectorizer()"
   ]
  },
  {
   "cell_type": "markdown",
   "metadata": {},
   "source": [
    "Fitting the `CountVectorizer` learns the vocabulary"
   ]
  },
  {
   "cell_type": "code",
   "execution_count": 106,
   "metadata": {},
   "outputs": [
    {
     "name": "stdout",
     "output_type": "stream",
     "text": [
      "{'cute': 0, 'really': 4, 'literally': 3, 'dogs': 1, 'just': 2}\n"
     ]
    }
   ],
   "source": [
    "sentence = [\"Literally just 8 really really cute dogs\"]\n",
    "vectorizer.fit(sentence)\n",
    "print(vectorizer.vocabulary_) # dictionary of words and ids"
   ]
  },
  {
   "cell_type": "markdown",
   "metadata": {},
   "source": [
    "We can then transform our textual to numerical data"
   ]
  },
  {
   "cell_type": "code",
   "execution_count": 107,
   "metadata": {},
   "outputs": [
    {
     "data": {
      "text/plain": [
       "array([[1, 1, 1, 1, 2]])"
      ]
     },
     "execution_count": 107,
     "metadata": {},
     "output_type": "execute_result"
    }
   ],
   "source": [
    "vectorizer.transform(sentence).toarray()"
   ]
  },
  {
   "cell_type": "markdown",
   "metadata": {},
   "source": [
    "Note: we cannot transform textual data that is not in our learned vocabulary."
   ]
  },
  {
   "cell_type": "code",
   "execution_count": 108,
   "metadata": {},
   "outputs": [
    {
     "data": {
      "text/plain": [
       "array([[0, 1, 0, 0, 0]])"
      ]
     },
     "execution_count": 108,
     "metadata": {},
     "output_type": "execute_result"
    }
   ],
   "source": [
    "sentence = [\"OMG 5 truly hilarious dogs 😂\"]\n",
    "vectorizer.transform(sentence).toarray()"
   ]
  },
  {
   "cell_type": "markdown",
   "metadata": {},
   "source": [
    "## Classifier\n",
    "\n",
    "In the classification task, we take a single example (such as an article row) and decide which class it belongs to (e.g., clickbait or not clickbait). A standard approach to classification is to find a boundary that best seperates training examples according to their class. In the binary classification problem below, we've indicated a linear boundary that separates the data pretty well. Each sample is described by the number of times that word1 and word2 occur. In reality we will have many more words associated with each sample but the concept remains the same.\n",
    "\n",
    "We determine this boundary using a Support Vector Machine. The SVM has two steps:\n",
    " - **Fit** we learn the boundary from labelled data\n",
    " - **Predict** we predict the classes of unlabelled data\n",
    "\n",
    "![classify](images/svm-classify.png)"
   ]
  },
  {
   "cell_type": "code",
   "execution_count": 109,
   "metadata": {
    "collapsed": true
   },
   "outputs": [],
   "source": [
    "from sklearn.svm import LinearSVC\n",
    "svc = LinearSVC()"
   ]
  },
  {
   "cell_type": "markdown",
   "metadata": {},
   "source": [
    "Let's make up some samples."
   ]
  },
  {
   "cell_type": "code",
   "execution_count": 110,
   "metadata": {
    "collapsed": true
   },
   "outputs": [],
   "source": [
    "bag_of_words = [\n",
    "    [1, 5], [1, 4], [2, 6], [4, 2], [3, 4], [2, 1]\n",
    "]\n",
    "labels = [1, 1, 1, 0, 0, 0]"
   ]
  },
  {
   "cell_type": "code",
   "execution_count": 111,
   "metadata": {},
   "outputs": [
    {
     "data": {
      "image/png": "[encoded data removed]",
      "text/plain": [
       "<matplotlib.figure.Figure at 0x117bbd208>"
      ]
     },
     "metadata": {},
     "output_type": "display_data"
    }
   ],
   "source": [
    "from utils.plotting import plot_2d_samples\n",
    "plot_2d_samples(bag_of_words, labels)"
   ]
  },
  {
   "cell_type": "markdown",
   "metadata": {},
   "source": [
    "Now we learn the boundary!"
   ]
  },
  {
   "cell_type": "code",
   "execution_count": 112,
   "metadata": {
    "collapsed": true
   },
   "outputs": [],
   "source": [
    "svc = svc.fit(bag_of_words, labels)"
   ]
  },
  {
   "cell_type": "code",
   "execution_count": 113,
   "metadata": {
    "scrolled": false
   },
   "outputs": [
    {
     "data": {
      "image/png": "[encoded data removed]",
      "text/plain": [
       "<matplotlib.figure.Figure at 0x117bdec50>"
      ]
     },
     "metadata": {},
     "output_type": "display_data"
    }
   ],
   "source": [
    "from utils.plotting import plot_2d_trained_svc\n",
    "plot_2d_trained_svc(bag_of_words, labels, svc)"
   ]
  },
  {
   "cell_type": "markdown",
   "metadata": {},
   "source": [
    "Once we have learned the boundary then we can predict the label of novel samples"
   ]
  },
  {
   "cell_type": "code",
   "execution_count": 114,
   "metadata": {},
   "outputs": [
    {
     "data": {
      "text/plain": [
       "array([0, 1])"
      ]
     },
     "execution_count": 114,
     "metadata": {},
     "output_type": "execute_result"
    }
   ],
   "source": [
    "svc.predict([[3, 1], [2,4]])"
   ]
  },
  {
   "cell_type": "markdown",
   "metadata": {},
   "source": [
    "## Putting it all together in a pipeline\n",
    "\n",
    "A pipeline consists of multiple transform steps and a final classification step. A pipeline is an easy way to wrap up all our transformations in one easy to use box. In general we use the following functions:\n",
    " - **Fit** to fit the transformers and classifier\n",
    " - **Predict** to transform data and predict it's label\n",
    " \n",
    "Below is a detailed schematic of the data flow in the pipeline when we call these two methods.\n",
    "\n",
    "![pipeobj](images/sklearn-pipeline.png)\n",
    "\n",
    "We'll create a pipeline with two steps:\n",
    "1. Transform textual data to a bag of words vector\n",
    "2. Predict label from the bag of words vector\n",
    "\n",
    "So the input of our pipeline is text data and the output is a label!"
   ]
  },
  {
   "cell_type": "code",
   "execution_count": 173,
   "metadata": {
    "collapsed": true
   },
   "outputs": [],
   "source": [
    "steps = (\n",
    "    ('vectorizer', CountVectorizer()),\n",
    "    ('classifier', LinearSVC())\n",
    ")"
   ]
  },
  {
   "cell_type": "code",
   "execution_count": 174,
   "metadata": {
    "collapsed": true
   },
   "outputs": [],
   "source": [
    "from sklearn.pipeline import Pipeline\n",
    "pipeline = Pipeline(steps)"
   ]
  },
  {
   "cell_type": "markdown",
   "metadata": {},
   "source": [
    "**Congratulations!** You've built your first text classification pipeline.\n",
    "![pipeygif](https://tinynin.files.wordpress.com/2012/01/warppipe-copy.gif)"
   ]
  },
  {
   "cell_type": "markdown",
   "metadata": {},
   "source": [
    "## Training our pipeline on real data\n",
    "\n",
    "Now that we know how the vectorizer and classifier work together to form a pipeline, we can train it on the real data. \n",
    "\n",
    "**Machine learning discipline 101**\n",
    " - Split your data into a training and testing set\n",
    " - NEVER look at your testing data. Hide it away. Save it for later. Lock it in a drawer!\n",
    " - Your training data helps you to fit your models and select one\n",
    " - Your testing data is used for final evaluation\n",
    " \n",
    "Scikit-learn's train and test split shuffles our data and splits it into two sets. We can also use *stratified sampling* to ensure that both sets have the same distribution of labels."
   ]
  },
  {
   "cell_type": "code",
   "execution_count": 223,
   "metadata": {
    "collapsed": true
   },
   "outputs": [],
   "source": [
    "from sklearn.model_selection import train_test_split\n",
    "training, testing = train_test_split(\n",
    "    df,                # The dataset we want to split\n",
    "    train_size=0.7,    # The proportional size of our training set\n",
    "    stratify=df.label, # The labels are used for stratification\n",
    "    random_state=400   # Use the same random state for reproducibility\n",
    ")"
   ]
  },
  {
   "cell_type": "code",
   "execution_count": 118,
   "metadata": {},
   "outputs": [
    {
     "data": {
      "text/html": [
       "<div>\n",
       "<table border=\"1\" class=\"dataframe\">\n",
       "  <thead>\n",
       "    <tr style=\"text-align: right;\">\n",
       "      <th></th>\n",
       "      <th>author</th>\n",
       "      <th>description</th>\n",
       "      <th>label</th>\n",
       "      <th>publishedAt</th>\n",
       "      <th>title</th>\n",
       "      <th>full_content</th>\n",
       "    </tr>\n",
       "  </thead>\n",
       "  <tbody>\n",
       "    <tr>\n",
       "      <th>343</th>\n",
       "      <td>Tom Vellner</td>\n",
       "      <td>DO NOT WATCH THE NEXT EPISODE WITHOUT ME.</td>\n",
       "      <td>1</td>\n",
       "      <td>2017-04-17T23:31:03Z</td>\n",
       "      <td>17 Things You Can't Get Away With When You Liv...</td>\n",
       "      <td>17 Things You Can't Get Away With When You Liv...</td>\n",
       "    </tr>\n",
       "    <tr>\n",
       "      <th>36</th>\n",
       "      <td>Christopher Hudspeth</td>\n",
       "      <td>Bacon and ham or chorizo and potatoes?</td>\n",
       "      <td>1</td>\n",
       "      <td>NaN</td>\n",
       "      <td>Create A Breakfast Burrito And We Can Tell Wha...</td>\n",
       "      <td>Create A Breakfast Burrito And We Can Tell Wha...</td>\n",
       "    </tr>\n",
       "    <tr>\n",
       "      <th>1023</th>\n",
       "      <td>Shafik Mandhai</td>\n",
       "      <td>A growing band of activists wants to take on p...</td>\n",
       "      <td>0</td>\n",
       "      <td>2017-04-19T05:31:21Z</td>\n",
       "      <td>In search of alternative media in France</td>\n",
       "      <td>In search of alternative media in France</td>\n",
       "    </tr>\n",
       "    <tr>\n",
       "      <th>765</th>\n",
       "      <td>Al Jazeera Investigative Unit</td>\n",
       "      <td>Al Jazeera investigation reveals how spyware v...</td>\n",
       "      <td>0</td>\n",
       "      <td>2017-04-10T11:24:03Z</td>\n",
       "      <td>How the 'dual-use' ruse is employed to sell sp...</td>\n",
       "      <td>How the 'dual-use' ruse is employed to sell sp...</td>\n",
       "    </tr>\n",
       "    <tr>\n",
       "      <th>213</th>\n",
       "      <td>Ellie Hall</td>\n",
       "      <td>\"A stranger restored my faith that no matter w...</td>\n",
       "      <td>1</td>\n",
       "      <td>NaN</td>\n",
       "      <td>People Are Loving This Story Of An American St...</td>\n",
       "      <td>People Are Loving This Story Of An American St...</td>\n",
       "    </tr>\n",
       "  </tbody>\n",
       "</table>\n",
       "</div>"
      ],
      "text/plain": [
       "                             author  \\\n",
       "343                     Tom Vellner   \n",
       "36             Christopher Hudspeth   \n",
       "1023                 Shafik Mandhai   \n",
       "765   Al Jazeera Investigative Unit   \n",
       "213                      Ellie Hall   \n",
       "\n",
       "                                            description  label  \\\n",
       "343           DO NOT WATCH THE NEXT EPISODE WITHOUT ME.      1   \n",
       "36               Bacon and ham or chorizo and potatoes?      1   \n",
       "1023  A growing band of activists wants to take on p...      0   \n",
       "765   Al Jazeera investigation reveals how spyware v...      0   \n",
       "213   \"A stranger restored my faith that no matter w...      1   \n",
       "\n",
       "               publishedAt                                              title  \\\n",
       "343   2017-04-17T23:31:03Z  17 Things You Can't Get Away With When You Liv...   \n",
       "36                     NaN  Create A Breakfast Burrito And We Can Tell Wha...   \n",
       "1023  2017-04-19T05:31:21Z           In search of alternative media in France   \n",
       "765   2017-04-10T11:24:03Z  How the 'dual-use' ruse is employed to sell sp...   \n",
       "213                    NaN  People Are Loving This Story Of An American St...   \n",
       "\n",
       "                                           full_content  \n",
       "343   17 Things You Can't Get Away With When You Liv...  \n",
       "36    Create A Breakfast Burrito And We Can Tell Wha...  \n",
       "1023           In search of alternative media in France  \n",
       "765   How the 'dual-use' ruse is employed to sell sp...  \n",
       "213   People Are Loving This Story Of An American St...  "
      ]
     },
     "execution_count": 118,
     "metadata": {},
     "output_type": "execute_result"
    }
   ],
   "source": [
    "training.head(5)"
   ]
  },
  {
   "cell_type": "code",
   "execution_count": 119,
   "metadata": {},
   "outputs": [
    {
     "name": "stdout",
     "output_type": "stream",
     "text": [
      "857\n",
      "368\n"
     ]
    }
   ],
   "source": [
    "print(len(training))\n",
    "print(len(testing))"
   ]
  },
  {
   "cell_type": "markdown",
   "metadata": {},
   "source": [
    "### Train\n",
    "\n",
    "Now we're ready to train!"
   ]
  },
  {
   "cell_type": "code",
   "execution_count": 175,
   "metadata": {
    "collapsed": true
   },
   "outputs": [],
   "source": [
    "pipeline = pipeline.fit(training.full_content, training.label)"
   ]
  },
  {
   "cell_type": "markdown",
   "metadata": {},
   "source": [
    "What? That was it?! \n",
    "\n",
    "That's right. You've just built a machine learning classifier for clickbait and it was that easy to train. Let's test it out:"
   ]
  },
  {
   "cell_type": "code",
   "execution_count": 222,
   "metadata": {},
   "outputs": [
    {
     "data": {
      "text/plain": [
       "array([1])"
      ]
     },
     "execution_count": 222,
     "metadata": {},
     "output_type": "execute_result"
    }
   ],
   "source": [
    "pipeline.predict([\"10 things you need to do...\"])"
   ]
  },
  {
   "cell_type": "code",
   "execution_count": 177,
   "metadata": {},
   "outputs": [
    {
     "data": {
      "text/plain": [
       "array([0])"
      ]
     },
     "execution_count": 177,
     "metadata": {},
     "output_type": "execute_result"
    }
   ],
   "source": [
    "pipeline.predict([\"French election polls show an early lead for Macron.\"])"
   ]
  },
  {
   "cell_type": "markdown",
   "metadata": {},
   "source": [
    "### Evaluate performance\n",
    "Now let's see how well we perform on the test set."
   ]
  },
  {
   "cell_type": "code",
   "execution_count": 215,
   "metadata": {},
   "outputs": [],
   "source": [
    "from sklearn.metrics import accuracy_score\n",
    "from sklearn.metrics import confusion_matrix\n",
    "from utils.plotting import plot_confusion_matrix\n",
    "\n",
    "def evaluate(pipeline, test_samples, test_labels, n=5):\n",
    "    predicted_label = pipeline.predict(test_samples)\n",
    "\n",
    "    print(\"Accuracy = {:.1f}%\".format(\n",
    "        accuracy_score(test_labels, predicted_label) * 100.0\n",
    "    ))\n",
    "    \n",
    "    cm = confusion_matrix(test_labels, predicted_label)\n",
    "    plot_confusion_matrix(cm, pipeline.classes_)\n",
    "    \n",
    "    wrong_predictions = [\n",
    "        (true_label, pred_label, test_sample)\n",
    "        for true_label, pred_label, test_sample in zip(test_labels, predicted_label, test_samples) \n",
    "        if true_label != pred_label\n",
    "    ]\n",
    "    \n",
    "    print('true_label, pred_label, test_sample')\n",
    "    print('\\n')\n",
    "    for wrong_prediction in wrong_predictions[:n]:\n",
    "        print(wrong_prediction)\n",
    "    "
   ]
  },
  {
   "cell_type": "code",
   "execution_count": 218,
   "metadata": {},
   "outputs": [
    {
     "name": "stdout",
     "output_type": "stream",
     "text": [
      "Accuracy = 98.1%\n",
      "Confusion matrix, without normalization\n",
      "[[211   1]\n",
      " [  6 150]]\n",
      "true_label, pred_label, test_sample\n",
      "\n",
      "\n",
      "(1, 0, \"'Despite the tragedy of the earthquake and tsunami, it is still a place of serenity and peace.'\\n20 Eerie Pictures Of Life After Nuclear Fallout\")\n",
      "(0, 1, 'Marching for science or scientists marching?\\nWe need a march for science, but this is not the one')\n",
      "(1, 0, 'Some of our recent favorites we’ve reviewed in the BuzzFeed Books newsletter.\\n5 Great Books To Read In April')\n",
      "(1, 0, 'The president said he made the decision to launch 59 missiles against Syria over a delicious dessert with the Chinese president.\\nTrump Was Eating \"The Most Beautiful Piece Of Chocolate Cake\" When He Bombed Syria')\n",
      "(1, 0, 'Michaella Surat, a Colorado State University student, was arrested for allegedly assaulting a police officer after the altercation.\\nThis Video Appears To Show A Cop Slamming A 22-Year-Old Sorority Girl To The Ground')\n"
     ]
    },
    {
     "data": {
      "image/png": "[encoded data removed]",
      "text/plain": [
       "<matplotlib.figure.Figure at 0x1189faa58>"
      ]
     },
     "metadata": {},
     "output_type": "display_data"
    }
   ],
   "source": [
    "evaluate(pipeline, testing.full_content, testing.label)"
   ]
  },
  {
   "cell_type": "markdown",
   "metadata": {},
   "source": [
    "### Add description"
   ]
  },
  {
   "cell_type": "code",
   "execution_count": 220,
   "metadata": {},
   "outputs": [
    {
     "name": "stdout",
     "output_type": "stream",
     "text": [
      "Accuracy = 98.1%\n",
      "Confusion matrix, without normalization\n",
      "[[211   1]\n",
      " [  6 150]]\n",
      "true_label, pred_label, test_sample\n",
      "\n",
      "\n",
      "(1, 0, \"'Despite the tragedy of the earthquake and tsunami, it is still a place of serenity and peace.'\\n20 Eerie Pictures Of Life After Nuclear Fallout\")\n",
      "(0, 1, 'Marching for science or scientists marching?\\nWe need a march for science, but this is not the one')\n",
      "(1, 0, 'Some of our recent favorites we’ve reviewed in the BuzzFeed Books newsletter.\\n5 Great Books To Read In April')\n",
      "(1, 0, 'The president said he made the decision to launch 59 missiles against Syria over a delicious dessert with the Chinese president.\\nTrump Was Eating \"The Most Beautiful Piece Of Chocolate Cake\" When He Bombed Syria')\n",
      "(1, 0, 'Michaella Surat, a Colorado State University student, was arrested for allegedly assaulting a police officer after the altercation.\\nThis Video Appears To Show A Cop Slamming A 22-Year-Old Sorority Girl To The Ground')\n"
     ]
    },
    {
     "data": {
      "image/png": "[encoded data removed]",
      "text/plain": [
       "<matplotlib.figure.Figure at 0x118bf0438>"
      ]
     },
     "metadata": {},
     "output_type": "display_data"
    }
   ],
   "source": [
    "df['full_content'] = (df.description + \"\\n\" + df.title)\n",
    "training, testing = train_test_split(\n",
    "    df,                # The dataset we want to split\n",
    "    train_size=0.7,    # The proportinal size of our training set\n",
    "    stratify=df.label, # The labels are used for stratification\n",
    "    random_state=400   # Use the same random state for reproducibility\n",
    ")\n",
    "pipeline = pipeline.fit(training.full_content, training.label)\n",
    "evaluate(pipeline, testing.full_content, testing.label)"
   ]
  },
  {
   "cell_type": "markdown",
   "metadata": {},
   "source": [
    "### TfidfVectorizer Transformer"
   ]
  },
  {
   "cell_type": "code",
   "execution_count": 221,
   "metadata": {},
   "outputs": [
    {
     "name": "stdout",
     "output_type": "stream",
     "text": [
      "Accuracy = 97.6%\n",
      "Confusion matrix, without normalization\n",
      "[[209   3]\n",
      " [  6 150]]\n",
      "true_label, pred_label, test_sample\n",
      "\n",
      "\n",
      "(0, 1, 'Veeru Kohli now works to eradicate this form of slavery in Pakistan, home to about two million bonded labourers.\\nVeeru Kohli: A bonded labourer who took on the Bhuttos')\n",
      "(1, 0, \"'Despite the tragedy of the earthquake and tsunami, it is still a place of serenity and peace.'\\n20 Eerie Pictures Of Life After Nuclear Fallout\")\n",
      "(0, 1, 'Marching for science or scientists marching?\\nWe need a march for science, but this is not the one')\n",
      "(1, 0, 'Some of our recent favorites we’ve reviewed in the BuzzFeed Books newsletter.\\n5 Great Books To Read In April')\n",
      "(1, 0, 'The president said he made the decision to launch 59 missiles against Syria over a delicious dessert with the Chinese president.\\nTrump Was Eating \"The Most Beautiful Piece Of Chocolate Cake\" When He Bombed Syria')\n"
     ]
    },
    {
     "data": {
      "image/png": "[encoded data removed]",
      "text/plain": [
       "<matplotlib.figure.Figure at 0x1114c7780>"
      ]
     },
     "metadata": {},
     "output_type": "display_data"
    }
   ],
   "source": [
    "from sklearn.feature_extraction.text import TfidfVectorizer\n",
    "\n",
    "steps = (\n",
    "    ('vectorizer', TfidfVectorizer()),\n",
    "    ('classifier', LinearSVC())\n",
    ")\n",
    "\n",
    "pipeline = Pipeline(steps)\n",
    "\n",
    "pipeline = pipeline.fit(training.full_content, training.label)\n",
    "evaluate(pipeline, testing.full_content, testing.label)"
   ]
  },
  {
   "cell_type": "markdown",
   "metadata": {},
   "source": [
    "### Hyperparameters\n",
    "\n",
    "When we constructed our `LinearSVC` and `CountVectorizer` we used the default model parameters. These additonal parameters (hyperparameters) can be chosen to improve our classifier by performing a grid search. A grid search trains a classifier on every combination of the parameters and analyses their performance. We can then pick the best one."
   ]
  },
  {
   "cell_type": "code",
   "execution_count": 207,
   "metadata": {},
   "outputs": [],
   "source": [
    "steps = (\n",
    "    ('vectorizer', TfidfVectorizer()),\n",
    "    ('classifier', LinearSVC())\n",
    ")\n",
    "\n",
    "pipeline = Pipeline(steps)"
   ]
  },
  {
   "cell_type": "markdown",
   "metadata": {},
   "source": [
    "Some parameters we can fiddle:\n",
    " - stop_words - we can ignore certain words (the, a, it,...). scikit-learn has an 'english' stop word vocabulary we can use\n",
    " - ngram_range - in the above example we split sentences into words. We could also try pairs of words.\n",
    " - C - the SVM has a property C that performs regularisation\n",
    " \n",
    "We set up our grid as a dictionary (note we must use the step names so that scikit learn knows which component we are fiddling with):"
   ]
  },
  {
   "cell_type": "code",
   "execution_count": 208,
   "metadata": {},
   "outputs": [],
   "source": [
    "gs_params = {\n",
    "    'vectorizer__stop_words': ['english', None],\n",
    "    'vectorizer__ngram_range': [(1, 1), (1, 2), (2, 2)],\n",
    "    'classifier__C': [0.001, 0.01, 0.1, 1, 10, 100]\n",
    "}"
   ]
  },
  {
   "cell_type": "code",
   "execution_count": 209,
   "metadata": {},
   "outputs": [
    {
     "data": {
      "text/plain": [
       "GridSearchCV(cv=None, error_score='raise',\n",
       "       estimator=Pipeline(steps=(('vectorizer', TfidfVectorizer(analyzer='word', binary=False, decode_error='strict',\n",
       "        dtype=<class 'numpy.int64'>, encoding='utf-8', input='content',\n",
       "        lowercase=True, max_df=1.0, max_features=None, min_df=1,\n",
       "        ngram_range=(1, 1), norm='l2', preprocessor=None, smooth_idf=Tr...ax_iter=1000,\n",
       "     multi_class='ovr', penalty='l2', random_state=None, tol=0.0001,\n",
       "     verbose=0)))),\n",
       "       fit_params={}, iid=True, n_jobs=-1,\n",
       "       param_grid={'vectorizer__stop_words': ['english', None], 'vectorizer__ngram_range': [(1, 1), (1, 2), (2, 2)], 'classifier__C': [0.001, 0.01, 0.1, 1, 10, 100]},\n",
       "       pre_dispatch='2*n_jobs', refit=True, return_train_score=True,\n",
       "       scoring=None, verbose=0)"
      ]
     },
     "execution_count": 209,
     "metadata": {},
     "output_type": "execute_result"
    }
   ],
   "source": [
    "from sklearn.model_selection import GridSearchCV\n",
    "gs = GridSearchCV(pipeline, gs_params, n_jobs=-1)\n",
    "gs.fit(training.full_content, training.label)"
   ]
  },
  {
   "cell_type": "code",
   "execution_count": 210,
   "metadata": {},
   "outputs": [
    {
     "name": "stdout",
     "output_type": "stream",
     "text": [
      "{'vectorizer__stop_words': None, 'vectorizer__ngram_range': (1, 2), 'classifier__C': 100}\n"
     ]
    }
   ],
   "source": [
    "print(gs.best_params_)"
   ]
  },
  {
   "cell_type": "code",
   "execution_count": 211,
   "metadata": {
    "collapsed": true
   },
   "outputs": [],
   "source": [
    "pipeline = gs.best_estimator_"
   ]
  },
  {
   "cell_type": "code",
   "execution_count": 212,
   "metadata": {},
   "outputs": [
    {
     "name": "stdout",
     "output_type": "stream",
     "text": [
      "Accuracy = 98.1%\n",
      "Confusion matrix, without normalization\n",
      "[[211   1]\n",
      " [  6 150]]\n"
     ]
    },
    {
     "data": {
      "image/png": "[encoded data removed]",
      "text/plain": [
       "<matplotlib.figure.Figure at 0x11831ddd8>"
      ]
     },
     "metadata": {},
     "output_type": "display_data"
    }
   ],
   "source": [
    "evaluate(pipeline, testing.full_content)"
   ]
  },
  {
   "cell_type": "code",
   "execution_count": null,
   "metadata": {
    "collapsed": true
   },
   "outputs": [],
   "source": []
  },
  {
   "cell_type": "markdown",
   "metadata": {},
   "source": [
    "# Going into the wild\n",
    "\n",
    "![hunger](https://ronanwills.files.wordpress.com/2015/06/vlcsnap-2015-06-11-23h05m49s76.png?w=625)\n",
    "\n",
    "One excellent feature of scikit learn is that we can save our classifier using the pickle tool. We can load it later for\n",
    " - data analysis\n",
    " - data provenance\n",
    " - to share with somebody\n",
    " - to provide ML as a service (coming up)"
   ]
  },
  {
   "cell_type": "code",
   "execution_count": 68,
   "metadata": {
    "collapsed": true
   },
   "outputs": [],
   "source": [
    "filename = 'classifiers/clickbait_svc_v1'"
   ]
  },
  {
   "cell_type": "code",
   "execution_count": 69,
   "metadata": {
    "collapsed": true
   },
   "outputs": [],
   "source": [
    "import pickle\n",
    "with open(filename, 'wb') as f:\n",
    "    pickle.dump(pipeline, f)"
   ]
  },
  {
   "cell_type": "markdown",
   "metadata": {},
   "source": [
    "# Congratulations\n",
    "\n",
    "You've built a clickbait classifer. Head over to `advanced.ipynb` or look through the `webservice` directory to put your pipeline to use.\n",
    "\n",
    "![gatsby](https://media.tenor.co/images/78f5d1acd72e8a66257ea671b4aefd5f/tenor.gif)\n"
   ]
  },
  {
   "cell_type": "code",
   "execution_count": null,
   "metadata": {},
   "outputs": [],
   "source": []
  },
  {
   "cell_type": "code",
   "execution_count": null,
   "metadata": {
    "collapsed": true
   },
   "outputs": [],
   "source": []
  }
 ],
 "metadata": {
  "kernelspec": {
   "display_name": "Python 3",
   "language": "python",
   "name": "python3"
  },
  "language_info": {
   "codemirror_mode": {
    "name": "ipython",
    "version": 3
   },
   "file_extension": ".py",
   "mimetype": "text/x-python",
   "name": "python",
   "nbconvert_exporter": "python",
   "pygments_lexer": "ipython3",
   "version": "3.5.1"
  }
 },
 "nbformat": 4,
 "nbformat_minor": 2
}
